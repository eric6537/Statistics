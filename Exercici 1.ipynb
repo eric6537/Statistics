{
 "cells": [
  {
   "cell_type": "markdown",
   "metadata": {},
   "source": [
    "### Data frame extret de https://www.kaggle.com/datasets/heesoo37/120-years-of-olympic-history-athletes-and-results"
   ]
  },
  {
   "cell_type": "code",
   "execution_count": 105,
   "metadata": {},
   "outputs": [
    {
     "data": {
      "text/html": [
       "<div>\n",
       "<style scoped>\n",
       "    .dataframe tbody tr th:only-of-type {\n",
       "        vertical-align: middle;\n",
       "    }\n",
       "\n",
       "    .dataframe tbody tr th {\n",
       "        vertical-align: top;\n",
       "    }\n",
       "\n",
       "    .dataframe thead th {\n",
       "        text-align: right;\n",
       "    }\n",
       "</style>\n",
       "<table border=\"1\" class=\"dataframe\">\n",
       "  <thead>\n",
       "    <tr style=\"text-align: right;\">\n",
       "      <th></th>\n",
       "      <th>ID</th>\n",
       "      <th>Name</th>\n",
       "      <th>Sex</th>\n",
       "      <th>Age</th>\n",
       "      <th>Height</th>\n",
       "      <th>Weight</th>\n",
       "      <th>Team</th>\n",
       "      <th>NOC</th>\n",
       "      <th>Games</th>\n",
       "      <th>Year</th>\n",
       "      <th>Season</th>\n",
       "      <th>City</th>\n",
       "      <th>Sport</th>\n",
       "      <th>Event</th>\n",
       "      <th>Medal</th>\n",
       "    </tr>\n",
       "  </thead>\n",
       "  <tbody>\n",
       "    <tr>\n",
       "      <th>0</th>\n",
       "      <td>1</td>\n",
       "      <td>A Dijiang</td>\n",
       "      <td>M</td>\n",
       "      <td>24.0</td>\n",
       "      <td>180.0</td>\n",
       "      <td>80.0</td>\n",
       "      <td>China</td>\n",
       "      <td>CHN</td>\n",
       "      <td>1992 Summer</td>\n",
       "      <td>1992</td>\n",
       "      <td>Summer</td>\n",
       "      <td>Barcelona</td>\n",
       "      <td>Basketball</td>\n",
       "      <td>Basketball Men's Basketball</td>\n",
       "      <td>NaN</td>\n",
       "    </tr>\n",
       "    <tr>\n",
       "      <th>1</th>\n",
       "      <td>2</td>\n",
       "      <td>A Lamusi</td>\n",
       "      <td>M</td>\n",
       "      <td>23.0</td>\n",
       "      <td>170.0</td>\n",
       "      <td>60.0</td>\n",
       "      <td>China</td>\n",
       "      <td>CHN</td>\n",
       "      <td>2012 Summer</td>\n",
       "      <td>2012</td>\n",
       "      <td>Summer</td>\n",
       "      <td>London</td>\n",
       "      <td>Judo</td>\n",
       "      <td>Judo Men's Extra-Lightweight</td>\n",
       "      <td>NaN</td>\n",
       "    </tr>\n",
       "    <tr>\n",
       "      <th>2</th>\n",
       "      <td>3</td>\n",
       "      <td>Gunnar Nielsen Aaby</td>\n",
       "      <td>M</td>\n",
       "      <td>24.0</td>\n",
       "      <td>NaN</td>\n",
       "      <td>NaN</td>\n",
       "      <td>Denmark</td>\n",
       "      <td>DEN</td>\n",
       "      <td>1920 Summer</td>\n",
       "      <td>1920</td>\n",
       "      <td>Summer</td>\n",
       "      <td>Antwerpen</td>\n",
       "      <td>Football</td>\n",
       "      <td>Football Men's Football</td>\n",
       "      <td>NaN</td>\n",
       "    </tr>\n",
       "    <tr>\n",
       "      <th>3</th>\n",
       "      <td>4</td>\n",
       "      <td>Edgar Lindenau Aabye</td>\n",
       "      <td>M</td>\n",
       "      <td>34.0</td>\n",
       "      <td>NaN</td>\n",
       "      <td>NaN</td>\n",
       "      <td>Denmark/Sweden</td>\n",
       "      <td>DEN</td>\n",
       "      <td>1900 Summer</td>\n",
       "      <td>1900</td>\n",
       "      <td>Summer</td>\n",
       "      <td>Paris</td>\n",
       "      <td>Tug-Of-War</td>\n",
       "      <td>Tug-Of-War Men's Tug-Of-War</td>\n",
       "      <td>Gold</td>\n",
       "    </tr>\n",
       "    <tr>\n",
       "      <th>4</th>\n",
       "      <td>5</td>\n",
       "      <td>Christine Jacoba Aaftink</td>\n",
       "      <td>F</td>\n",
       "      <td>21.0</td>\n",
       "      <td>185.0</td>\n",
       "      <td>82.0</td>\n",
       "      <td>Netherlands</td>\n",
       "      <td>NED</td>\n",
       "      <td>1988 Winter</td>\n",
       "      <td>1988</td>\n",
       "      <td>Winter</td>\n",
       "      <td>Calgary</td>\n",
       "      <td>Speed Skating</td>\n",
       "      <td>Speed Skating Women's 500 metres</td>\n",
       "      <td>NaN</td>\n",
       "    </tr>\n",
       "  </tbody>\n",
       "</table>\n",
       "</div>"
      ],
      "text/plain": [
       "   ID                      Name Sex   Age  Height  Weight            Team  \\\n",
       "0   1                 A Dijiang   M  24.0   180.0    80.0           China   \n",
       "1   2                  A Lamusi   M  23.0   170.0    60.0           China   \n",
       "2   3       Gunnar Nielsen Aaby   M  24.0     NaN     NaN         Denmark   \n",
       "3   4      Edgar Lindenau Aabye   M  34.0     NaN     NaN  Denmark/Sweden   \n",
       "4   5  Christine Jacoba Aaftink   F  21.0   185.0    82.0     Netherlands   \n",
       "\n",
       "   NOC        Games  Year  Season       City          Sport  \\\n",
       "0  CHN  1992 Summer  1992  Summer  Barcelona     Basketball   \n",
       "1  CHN  2012 Summer  2012  Summer     London           Judo   \n",
       "2  DEN  1920 Summer  1920  Summer  Antwerpen       Football   \n",
       "3  DEN  1900 Summer  1900  Summer      Paris     Tug-Of-War   \n",
       "4  NED  1988 Winter  1988  Winter    Calgary  Speed Skating   \n",
       "\n",
       "                              Event Medal  \n",
       "0       Basketball Men's Basketball   NaN  \n",
       "1      Judo Men's Extra-Lightweight   NaN  \n",
       "2           Football Men's Football   NaN  \n",
       "3       Tug-Of-War Men's Tug-Of-War  Gold  \n",
       "4  Speed Skating Women's 500 metres   NaN  "
      ]
     },
     "execution_count": 105,
     "metadata": {},
     "output_type": "execute_result"
    }
   ],
   "source": [
    "import pandas as pd\n",
    "import math\n",
    "import numpy as np\n",
    "import statistics\n",
    "import matplotlib.pyplot as plt\n",
    "df=pd.read_csv(\"athlete_events.csv\")\n",
    "df.head()"
   ]
  },
  {
   "cell_type": "markdown",
   "metadata": {},
   "source": [
    "Calcula la moda, la mediana, la desviació estàndard i la mitjana aritmètica"
   ]
  },
  {
   "cell_type": "markdown",
   "metadata": {},
   "source": [
    "# Exercici 1\n",
    "### Mitjana aritmètica"
   ]
  },
  {
   "cell_type": "code",
   "execution_count": 106,
   "metadata": {},
   "outputs": [
    {
     "name": "stdout",
     "output_type": "stream",
     "text": [
      "[1992, 2012, 1920, 1900, 1988, 1988, 1992, 1992, 1994, 1994, 1992]\n"
     ]
    }
   ],
   "source": [
    "anys=list(df['Year'].dropna())\n",
    "print(anys[:11])"
   ]
  },
  {
   "cell_type": "code",
   "execution_count": 107,
   "metadata": {},
   "outputs": [],
   "source": [
    "def Mitja(df,columna):\n",
    "    llista=list(df[columna].dropna())\n",
    "    mitja=sum(llista)/len(llista)\n",
    "    return mitja"
   ]
  },
  {
   "cell_type": "code",
   "execution_count": 108,
   "metadata": {},
   "outputs": [
    {
     "name": "stdout",
     "output_type": "stream",
     "text": [
      "1978.3784800601957\n"
     ]
    }
   ],
   "source": [
    "mitja=Mitja(df,'Year')\n",
    "print(mitja)"
   ]
  },
  {
   "cell_type": "markdown",
   "metadata": {},
   "source": [
    "o també es pot fer:"
   ]
  },
  {
   "cell_type": "code",
   "execution_count": 109,
   "metadata": {},
   "outputs": [
    {
     "data": {
      "text/plain": [
       "1978.3784800601957"
      ]
     },
     "execution_count": 109,
     "metadata": {},
     "output_type": "execute_result"
    }
   ],
   "source": [
    "statistics.mean(anys)"
   ]
  },
  {
   "cell_type": "markdown",
   "metadata": {},
   "source": [
    "### Moda"
   ]
  },
  {
   "cell_type": "code",
   "execution_count": 110,
   "metadata": {},
   "outputs": [],
   "source": [
    "def Moda(df, columna):\n",
    "    serie=df.groupby(columna).size().sort_values(ascending=False)\n",
    "    count=serie.iloc[0]\n",
    "    moda=[]\n",
    "    for i in range(len(serie)):\n",
    "        if serie.iloc[i]>=count:\n",
    "            moda.append(serie.index[i])\n",
    "    return moda"
   ]
  },
  {
   "cell_type": "code",
   "execution_count": 111,
   "metadata": {},
   "outputs": [
    {
     "name": "stdout",
     "output_type": "stream",
     "text": [
      "[1992]\n"
     ]
    }
   ],
   "source": [
    "moda=Moda(df,'Year')\n",
    "print(moda)"
   ]
  },
  {
   "cell_type": "markdown",
   "metadata": {},
   "source": [
    "o també es pot fer:"
   ]
  },
  {
   "cell_type": "code",
   "execution_count": 112,
   "metadata": {},
   "outputs": [
    {
     "name": "stdout",
     "output_type": "stream",
     "text": [
      "1992\n"
     ]
    }
   ],
   "source": [
    "moda=statistics.mode(anys)\n",
    "print(moda)"
   ]
  },
  {
   "cell_type": "markdown",
   "metadata": {},
   "source": [
    "### Mediana"
   ]
  },
  {
   "cell_type": "code",
   "execution_count": 113,
   "metadata": {},
   "outputs": [],
   "source": [
    "def Mediana(df,columna):\n",
    "    llista=list(df[columna].dropna())\n",
    "    llista.sort()\n",
    "    if len(llista)%2==0: #Si és parell\n",
    "        n=math.floor(len(llista)/2)\n",
    "        mediana1=llista[n-1]\n",
    "        mediana2=llista[n]\n",
    "        mediana=(mediana1+mediana2)/2\n",
    "    elif len(llista)%2!=0: #Si és imparell\n",
    "        n=math.floor(len(llista)/2)\n",
    "        mediana=llista[n]\n",
    "    return mediana        "
   ]
  },
  {
   "cell_type": "code",
   "execution_count": 114,
   "metadata": {},
   "outputs": [
    {
     "name": "stdout",
     "output_type": "stream",
     "text": [
      "1988.0\n"
     ]
    }
   ],
   "source": [
    "mediana=Mediana(df,'Year')\n",
    "print(mediana)"
   ]
  },
  {
   "cell_type": "markdown",
   "metadata": {},
   "source": [
    "o també es pot fer:"
   ]
  },
  {
   "cell_type": "code",
   "execution_count": 115,
   "metadata": {},
   "outputs": [
    {
     "name": "stdout",
     "output_type": "stream",
     "text": [
      "1988.0\n"
     ]
    }
   ],
   "source": [
    "mediana=statistics.median(anys)\n",
    "print(mediana)"
   ]
  },
  {
   "cell_type": "markdown",
   "metadata": {},
   "source": [
    "### Desviació estandard"
   ]
  },
  {
   "cell_type": "markdown",
   "metadata": {},
   "source": [
    "La desviació estàndard (s) es calcula amb la fórmula:\n",
    "[<img src=\"https://nestedsoftware.com/assets/images/2018-03-12-the-geometry-of-standard-deviation--3m3o.21736/ggzs44981kodjlgn5lml.png\" width=\"200\">](https://nestedsoftware.com/2018/03/12/the-geometry-of-standard-deviation-3m3o.21736.html)\n",
    "on x̄ és la mitja, $x_{i}$ és cada un dels valors observats, i n és la mida de la mostra."
   ]
  },
  {
   "cell_type": "code",
   "execution_count": 116,
   "metadata": {},
   "outputs": [],
   "source": [
    "def Desviacio(df,columna):\n",
    "    llista=list(df[columna].dropna())\n",
    "    mitja = Mitja(df,columna)\n",
    "    sumatori=0\n",
    "    for i in llista:\n",
    "        sumatori += (i-mitja)**2\n",
    "    n=len(llista)-1\n",
    "    s2=sumatori/n\n",
    "    s=math.sqrt(s2)\n",
    "    return s"
   ]
  },
  {
   "cell_type": "code",
   "execution_count": 117,
   "metadata": {},
   "outputs": [
    {
     "name": "stdout",
     "output_type": "stream",
     "text": [
      "29.877631985612652\n"
     ]
    }
   ],
   "source": [
    "desviacio = Desviacio(df,'Year')\n",
    "print(desviacio)"
   ]
  },
  {
   "cell_type": "markdown",
   "metadata": {},
   "source": [
    "o també es pot fer:"
   ]
  },
  {
   "cell_type": "code",
   "execution_count": 118,
   "metadata": {},
   "outputs": [
    {
     "name": "stdout",
     "output_type": "stream",
     "text": [
      "29.877631985613426\n"
     ]
    }
   ],
   "source": [
    "desviacio = statistics.stdev(anys)\n",
    "print(desviacio)"
   ]
  },
  {
   "cell_type": "markdown",
   "metadata": {},
   "source": [
    "### Correlació"
   ]
  },
  {
   "cell_type": "markdown",
   "metadata": {},
   "source": [
    "La correlació de pearson de dues variables x i y ($r_{xy}$) es calcula amb la fórmula:\n",
    "[<img src=\"https://www.mathsisfun.com/data/images/correlation-formula.gif\" width=\"300\">](https://www.mathsisfun.com/data/correlation.html)"
   ]
  },
  {
   "cell_type": "code",
   "execution_count": 119,
   "metadata": {},
   "outputs": [],
   "source": [
    "def Correlacio(df,columna1,columna2):\n",
    "    df=df.dropna()\n",
    "    mitja1=Mitja(df,columna1)\n",
    "    mitja2=Mitja(df,columna2)\n",
    "    llista1=list(df[columna1])\n",
    "    llista2=list(df[columna2])\n",
    "    a=[]\n",
    "    a2=[]\n",
    "    b=[]\n",
    "    b2=[]\n",
    "    ab=[]\n",
    "    for i in llista1:\n",
    "        a.append(i-mitja1)\n",
    "        a2.append((i-mitja1)**2)\n",
    "    for j in llista2:\n",
    "        b.append(j-mitja2)\n",
    "        b2.append((j-mitja2)**2)\n",
    "    for k in range(len(llista1)):\n",
    "        ab.append(a[k]*b[k])\n",
    "    r=sum(ab)/math.sqrt(sum(a2)*sum(b2))\n",
    "    return r"
   ]
  },
  {
   "cell_type": "code",
   "execution_count": 120,
   "metadata": {},
   "outputs": [
    {
     "name": "stdout",
     "output_type": "stream",
     "text": [
      "0.1617503196209218\n"
     ]
    }
   ],
   "source": [
    "r=Correlacio(df,'Age','Weight')\n",
    "print(r)"
   ]
  },
  {
   "cell_type": "code",
   "execution_count": 121,
   "metadata": {},
   "outputs": [
    {
     "name": "stdout",
     "output_type": "stream",
     "text": [
      "[[1.         0.16175032]\n",
      " [0.16175032 1.        ]]\n"
     ]
    }
   ],
   "source": [
    "df2=df.dropna()\n",
    "x=list(df2['Age'])\n",
    "y=list(df2['Weight'])\n",
    "r=np.corrcoef(x,y)\n",
    "print(r)"
   ]
  },
  {
   "cell_type": "markdown",
   "metadata": {},
   "source": [
    "Dóna una matriu de correlacions entre x i y, x amb x, x amb y, y amb x i y amb y."
   ]
  },
  {
   "cell_type": "markdown",
   "metadata": {},
   "source": [
    "# Exercici 2\n",
    "Correlacions"
   ]
  },
  {
   "cell_type": "code",
   "execution_count": 122,
   "metadata": {},
   "outputs": [
    {
     "name": "stdout",
     "output_type": "stream",
     "text": [
      "              ID       Age    Height    Weight      Year\n",
      "ID      1.000000 -0.003631 -0.011141 -0.009176  0.011885\n",
      "Age    -0.003631  1.000000  0.138246  0.212069 -0.115137\n",
      "Height -0.011141  0.138246  1.000000  0.796213  0.047578\n",
      "Weight -0.009176  0.212069  0.796213  1.000000  0.019095\n",
      "Year    0.011885 -0.115137  0.047578  0.019095  1.000000\n"
     ]
    }
   ],
   "source": [
    "r = df.corr()\n",
    "print(r)"
   ]
  },
  {
   "cell_type": "code",
   "execution_count": 123,
   "metadata": {},
   "outputs": [
    {
     "data": {
      "image/png": "[encoded data removed]",
      "text/plain": [
       "<Figure size 432x288 with 2 Axes>"
      ]
     },
     "metadata": {
      "needs_background": "light"
     },
     "output_type": "display_data"
    }
   ],
   "source": [
    "fig = plt.figure()\n",
    "ax = fig.add_subplot()\n",
    "cax = ax.matshow(r,cmap='viridis_r', vmin=-1, vmax=1)\n",
    "fig.colorbar(cax)\n",
    "ticks = np.arange(0,len(df2.columns[0:5]),1)\n",
    "ax.set_xticks(ticks)\n",
    "plt.xticks(rotation=90)\n",
    "ax.set_yticks(ticks)\n",
    "ax.set_xticklabels(['ID','Age','Height','Weigth','Year'])\n",
    "ax.set_yticklabels(['ID','Age','Height','Weigth','Year'])\n",
    "plt.show()"
   ]
  },
  {
   "cell_type": "markdown",
   "metadata": {},
   "source": [
    "# Exercici 3\n",
    "### Mitja geomètrica"
   ]
  },
  {
   "cell_type": "code",
   "execution_count": 124,
   "metadata": {},
   "outputs": [
    {
     "name": "stdout",
     "output_type": "stream",
     "text": [
      "175.02216902512546\n"
     ]
    }
   ],
   "source": [
    "from scipy.stats.mstats import gmean\n",
    "mitjaGeometrica = gmean(df['Height'].dropna())\n",
    "print(mitjaGeometrica)"
   ]
  },
  {
   "cell_type": "markdown",
   "metadata": {},
   "source": [
    "### Mitja harmònica"
   ]
  },
  {
   "cell_type": "code",
   "execution_count": 125,
   "metadata": {},
   "outputs": [
    {
     "name": "stdout",
     "output_type": "stream",
     "text": [
      "174.70364252343094\n"
     ]
    }
   ],
   "source": [
    "def Harmonica(df,columna):\n",
    "    llista=list(df[columna].dropna())\n",
    "    n=len(llista)\n",
    "    values=[1/i for i in llista]\n",
    "    suma=0\n",
    "    for j in values:\n",
    "        suma+=j\n",
    "    h=n/suma\n",
    "    return h\n",
    "\n",
    "harmonica=Harmonica(df,'Height')\n",
    "print(harmonica)"
   ]
  }
 ],
 "metadata": {
  "kernelspec": {
   "display_name": "Python 3",
   "language": "python",
   "name": "python3"
  },
  "language_info": {
   "codemirror_mode": {
    "name": "ipython",
    "version": 3
   },
   "file_extension": ".py",
   "mimetype": "text/x-python",
   "name": "python",
   "nbconvert_exporter": "python",
   "pygments_lexer": "ipython3",
   "version": "3.8.3"
  }
 },
 "nbformat": 4,
 "nbformat_minor": 4
}
